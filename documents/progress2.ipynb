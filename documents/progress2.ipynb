{
 "cells": [
  {
   "metadata": {},
   "cell_type": "markdown",
   "source": [
    "# 6月21日\n",
    "\n",
    "## 循環参照の解決\n",
    "- なぜ循環参照が起こるか\n",
    "\n",
    "`core.py`の`Variable`クラスのメソッドが`function.py`の関数を参照し`function.py`の関数が`Variable`クラスを参照しているので安直にimportすると`core.py`と`function.py`の冒頭のimport を循環して読み続けて止まらなくなってしまう。\n",
    "\n",
    "- 解決法\n",
    "1. 絶対インポートの使用\n",
    "2. importlib.import_module()の使用\n",
    "実際に必要になるまで遅延させられる。\n",
    "\n",
    "\n",
    "\n",
    "- そもそも`__init__.py`とは何か？\n"
   ],
   "id": "a8b4c6e4d5e286c3"
  },
  {
   "metadata": {},
   "cell_type": "code",
   "outputs": [],
   "execution_count": null,
   "source": "",
   "id": "6d3dbee78d84b131"
  }
 ],
 "metadata": {
  "kernelspec": {
   "display_name": "Python 3",
   "language": "python",
   "name": "python3"
  },
  "language_info": {
   "codemirror_mode": {
    "name": "ipython",
    "version": 2
   },
   "file_extension": ".py",
   "mimetype": "text/x-python",
   "name": "python",
   "nbconvert_exporter": "python",
   "pygments_lexer": "ipython2",
   "version": "2.7.6"
  }
 },
 "nbformat": 4,
 "nbformat_minor": 5
}
