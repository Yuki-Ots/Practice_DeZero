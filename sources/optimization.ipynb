{
 "cells": [
  {
   "cell_type": "code",
   "execution_count": 4,
   "id": "initial_id",
   "metadata": {
    "collapsed": true,
    "ExecuteTime": {
     "end_time": "2024-05-23T06:11:31.684977Z",
     "start_time": "2024-05-23T06:11:31.046595Z"
    }
   },
   "source": [
    "import numpy as np\n",
    "from dezero import Variable\n",
    "import matplotlib.pyplot as plt\n",
    "\n",
    "def shpere(x, y):\n",
    "    z = x ** 2 + y ** 2\n",
    "    return z\n",
    "\n",
    "x = Variable(np.array(4.0))\n",
    "y = Variable(np.array(1.0))\n",
    "z = shpere(x, y)\n",
    "z.backward()\n",
    "print(x.grad, y.grad)\n",
    "\n",
    "X = np.linspace(-5, 5, 100)\n",
    "XX, YY = np.meshgrid(X, X)\n",
    "ZZ = shpere(XX, YY)\n",
    "\n",
    "fig = plt.figure(figsize=(8, 8))\n",
    "ax = fig.add_subplot(projection='3d')\n",
    "surf = ax.plot_surface(XX, YY, ZZ, cmap='bwr', alpha = 0.7)\n",
    "print(x.data)\n",
    "ax.plot(x.data, y.data, z.data, marker=\"o\",linestyle='None', color='red')\n",
    "print(x.data)\n",
    "ax.quiver(x.data, y.data, 0, x.data - x.grad, y.data - y.grad, 0,arrow_length_ratio=0.3)\n",
    "ax.set_title(r'$x^2 + y^2$')\n",
    "ax.set_xlabel(r'$x$')\n",
    "ax.set_ylabel(r'$y$')\n",
    "ax.set_zlabel(r'$z$')\n",
    "fig.colorbar(surf, shrink=0.5)\n",
    "\n",
    "plt.show()"
   ],
   "outputs": []
  },
  {
   "cell_type": "code",
   "source": [
    "def matyas(x, y):\n",
    "    z = 0.26 * (x ** 2 + y ** 2) - 0.48 * x * y\n",
    "    return z\n",
    "\n",
    "x = Variable(np.array(2.0))\n",
    "y = Variable(np.array(-2.0))\n",
    "z = matyas(x, y)\n",
    "z.backward()\n",
    "print(x.grad, y.grad)\n",
    "\n",
    "ZZ = matyas(XX, YY)\n",
    "fig = plt.figure(figsize=(8, 8))\n",
    "ax = fig.add_subplot(projection='3d')\n",
    "surf = ax.plot_surface(XX, YY, ZZ, cmap='bwr', alpha = 0.7)\n",
    "ax.plot(x.data, y.data, z.data, marker=\"o\",linestyle='None', color='red')\n",
    "ax.quiver(x.data, y.data, 0, x.data - x.grad, y.data - y.grad, 0,arrow_length_ratio=0.3)\n",
    "ax.set_xlabel(r'$x$')\n",
    "ax.set_ylabel(r'$y$')\n",
    "ax.set_zlabel(r'$z$')\n",
    "plt.savefig('matyas.png')\n",
    "plt.show()"
   ],
   "metadata": {
    "collapsed": false,
    "ExecuteTime": {
     "end_time": "2024-05-18T13:34:15.214705Z",
     "start_time": "2024-05-18T13:34:14.808112Z"
    }
   },
   "id": "e3bd6921fac9bf7a",
   "execution_count": 31,
   "outputs": []
  },
  {
   "cell_type": "code",
   "source": [
    "def rastrigin(x, y):\n",
    "    A = 10\n",
    "        \n",
    "    z = A * 2 + x ** 2 - A * "
   ],
   "metadata": {
    "collapsed": false
   },
   "id": "722b8b1297bcb850",
   "execution_count": null,
   "outputs": []
  },
  {
   "cell_type": "code",
   "source": [
    "from dezero import Function\n",
    "\n",
    "class Exp(Function):\n",
    "    def forward(self, x):\n",
    "        y = np.exp(x)\n",
    "        return y\n",
    "\n",
    "    def backward(self, gy):\n",
    "        x = self.inputs[0].data\n",
    "        gx = np.exp(x) * gy\n",
    "        return gx\n",
    "\n",
    "def exp(x):\n",
    "    return Exp()(x)\n",
    "\n",
    "\n",
    "class Sqrt(Function):\n",
    "    def forward(self, x):\n",
    "        y = np.sqrt(x)\n",
    "        return y\n",
    "    \n",
    "    def backward(self, gy):\n",
    "        x = self.inputs[0].data\n",
    "        gx = gy / (2 * np.sqrt(x))\n",
    "        return gx\n",
    "\n",
    "\n",
    "def sqrt(x):\n",
    "    return Sqrt()(x)\n",
    "\n",
    "\n",
    "def ackley(x, y):\n",
    "    z = - 20 * exp(-0.2 * sqrt(0.5 * x ** 2 * y ** 2))"
   ],
   "metadata": {
    "collapsed": false,
    "ExecuteTime": {
     "end_time": "2024-05-23T06:12:30.843225Z",
     "start_time": "2024-05-23T06:12:30.840460Z"
    }
   },
   "id": "98127a7fa62c00f9",
   "execution_count": 8,
   "outputs": []
  },
  {
   "cell_type": "code",
   "source": [
    "def rosenbrock(x, y):\n",
    "    z = 100 * ((y - x ** 2) ** 2) + (x - 1) ** 2\n",
    "    return z\n",
    "\n",
    "def rosenbrock2(x0, x1):\n",
    "    y = 100 * (x1 - x0 ** 2) ** 2 + (x0 - 1) ** 2\n",
    "\n",
    "x = Variable(np.array(2.0))\n",
    "y = Variable(np.array(-2.0))\n",
    "z = rosenbrock(x, y)\n",
    "z.backward()\n",
    "print(x.grad, y.grad)\n",
    "\n",
    "ZZ = rosenbrock2(XX, YY)\n",
    "fig = plt.figure(figsize=(8, 8))\n",
    "ax = fig.add_subplot(projection='3d')\n",
    "surf = ax.plot_surface(XX, YY, ZZ, cmap='bwr', alpha = 0.7 )\n",
    "ax.plot(x.data, y.data, z.data, marker=\"o\",linestyle='None', color='red')\n",
    "ax.quiver(x.data, y.data, 0, x.data - x.grad, y.data - y.grad, 0,arrow_length_ratio=0.3)\n",
    "ax.set_xlabel(r'$x$')\n",
    "ax.set_ylabel(r'$y$')\n",
    "ax.set_zlabel(r'$z$')\n",
    "plt.savefig('rosenbrock.png')\n",
    "plt.show()"
   ],
   "metadata": {
    "collapsed": false,
    "ExecuteTime": {
     "end_time": "2024-05-23T06:12:32.550897Z",
     "start_time": "2024-05-23T06:12:32.467434Z"
    }
   },
   "id": "a5df8f8531a45dda",
   "execution_count": 9,
   "outputs": []
  },
  {
   "cell_type": "code",
   "source": [
    "rosenbrock(0.0, 0.0)"
   ],
   "metadata": {
    "collapsed": false,
    "ExecuteTime": {
     "end_time": "2024-05-18T13:58:52.120971Z",
     "start_time": "2024-05-18T13:58:52.118663Z"
    }
   },
   "id": "a62cc755ae62fec1",
   "execution_count": 42,
   "outputs": []
  },
  {
   "cell_type": "code",
   "source": [
    "XX"
   ],
   "metadata": {
    "collapsed": false,
    "ExecuteTime": {
     "end_time": "2024-05-19T05:19:19.917919Z",
     "start_time": "2024-05-19T05:19:19.914736Z"
    }
   },
   "id": "c45a293c3401ee8a",
   "execution_count": 3,
   "outputs": []
  },
  {
   "cell_type": "code",
   "source": [
    "YY"
   ],
   "metadata": {
    "collapsed": false,
    "ExecuteTime": {
     "end_time": "2024-05-19T05:19:23.022692Z",
     "start_time": "2024-05-19T05:19:23.020354Z"
    }
   },
   "id": "92c68c7a4d31591a",
   "execution_count": 4,
   "outputs": []
  },
  {
   "cell_type": "code",
   "source": [
    "\n"
   ],
   "metadata": {
    "collapsed": false
   },
   "id": "249850ffe8542ff0",
   "execution_count": null,
   "outputs": []
  }
 ],
 "metadata": {
  "kernelspec": {
   "display_name": "Python 3",
   "language": "python",
   "name": "python3"
  },
  "language_info": {
   "codemirror_mode": {
    "name": "ipython",
    "version": 2
   },
   "file_extension": ".py",
   "mimetype": "text/x-python",
   "name": "python",
   "nbconvert_exporter": "python",
   "pygments_lexer": "ipython2",
   "version": "2.7.6"
  }
 },
 "nbformat": 4,
 "nbformat_minor": 5
}
