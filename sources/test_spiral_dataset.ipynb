{
 "cells": [
  {
   "cell_type": "code",
   "id": "initial_id",
   "metadata": {
    "collapsed": true,
    "ExecuteTime": {
     "end_time": "2024-07-19T09:31:09.719966Z",
     "start_time": "2024-07-19T09:31:09.713484Z"
    }
   },
   "source": [
    "import dezero\n",
    "\n",
    "x, t = dezero.datasets.get_spiral(train=True)"
   ],
   "outputs": [],
   "execution_count": 24
  },
  {
   "metadata": {
    "ExecuteTime": {
     "end_time": "2024-07-19T09:31:10.042187Z",
     "start_time": "2024-07-19T09:31:10.039698Z"
    }
   },
   "cell_type": "code",
   "source": "x.shape",
   "id": "47a935e4a6b608c",
   "outputs": [
    {
     "data": {
      "text/plain": [
       "(300, 2)"
      ]
     },
     "execution_count": 25,
     "metadata": {},
     "output_type": "execute_result"
    }
   ],
   "execution_count": 25
  },
  {
   "metadata": {
    "ExecuteTime": {
     "end_time": "2024-07-19T09:31:10.358295Z",
     "start_time": "2024-07-19T09:31:10.353953Z"
    }
   },
   "cell_type": "code",
   "source": "t.shape",
   "id": "3351b5d414dc5d34",
   "outputs": [
    {
     "data": {
      "text/plain": [
       "(300,)"
      ]
     },
     "execution_count": 26,
     "metadata": {},
     "output_type": "execute_result"
    }
   ],
   "execution_count": 26
  },
  {
   "metadata": {
    "ExecuteTime": {
     "end_time": "2024-07-19T09:31:10.674621Z",
     "start_time": "2024-07-19T09:31:10.671581Z"
    }
   },
   "cell_type": "code",
   "source": "print(x[:10], t[:10])",
   "id": "35f4b514d97ef662",
   "outputs": [
    {
     "name": "stdout",
     "output_type": "stream",
     "text": [
      "[[-0.13981389 -0.00721657]\n",
      " [ 0.37049392  0.5820947 ]\n",
      " [ 0.1374263  -0.17179643]\n",
      " [ 0.3031688   0.06472   ]\n",
      " [-0.20848857  0.53050214]\n",
      " [-0.7074377  -0.13391   ]\n",
      " [ 0.49455667 -0.3739167 ]\n",
      " [ 0.23201972  0.13808277]\n",
      " [-0.15886047 -0.01906173]\n",
      " [ 0.00491708 -0.33996445]] [1 1 2 0 1 2 0 0 1 2]\n"
     ]
    }
   ],
   "execution_count": 27
  },
  {
   "metadata": {
    "ExecuteTime": {
     "end_time": "2024-07-19T09:31:11.327087Z",
     "start_time": "2024-07-19T09:31:11.323059Z"
    }
   },
   "cell_type": "code",
   "source": "type(x)",
   "id": "251e4b0f408af32",
   "outputs": [
    {
     "data": {
      "text/plain": [
       "numpy.ndarray"
      ]
     },
     "execution_count": 28,
     "metadata": {},
     "output_type": "execute_result"
    }
   ],
   "execution_count": 28
  },
  {
   "metadata": {
    "ExecuteTime": {
     "end_time": "2024-07-19T09:31:28.893094Z",
     "start_time": "2024-07-19T09:31:28.890590Z"
    }
   },
   "cell_type": "code",
   "source": [
    "import pandas as pd\n",
    "# df = [[x[i], t[i]] for i in range(len(x))]\n",
    "# df = pd.DataFrame(df, columns=['x', 't'])\n",
    "x_df = pd.DataFrame(x, columns=['x', 'y'])"
   ],
   "id": "4f47dd0c9cd84625",
   "outputs": [],
   "execution_count": 32
  },
  {
   "metadata": {
    "ExecuteTime": {
     "end_time": "2024-07-19T09:31:30.635606Z",
     "start_time": "2024-07-19T09:31:30.629641Z"
    }
   },
   "cell_type": "code",
   "source": "x_df",
   "id": "e0b8c26ae5918fa9",
   "outputs": [
    {
     "data": {
      "text/plain": [
       "            x         y\n",
       "0   -0.139814 -0.007217\n",
       "1    0.370494  0.582095\n",
       "2    0.137426 -0.171796\n",
       "3    0.303169  0.064720\n",
       "4   -0.208489  0.530502\n",
       "..        ...       ...\n",
       "295 -0.566743 -0.164018\n",
       "296 -0.835929  0.407581\n",
       "297  0.436149 -0.223325\n",
       "298 -0.188530 -0.375308\n",
       "299  0.025065  0.075972\n",
       "\n",
       "[300 rows x 2 columns]"
      ],
      "text/html": [
       "<div>\n",
       "<style scoped>\n",
       "    .dataframe tbody tr th:only-of-type {\n",
       "        vertical-align: middle;\n",
       "    }\n",
       "\n",
       "    .dataframe tbody tr th {\n",
       "        vertical-align: top;\n",
       "    }\n",
       "\n",
       "    .dataframe thead th {\n",
       "        text-align: right;\n",
       "    }\n",
       "</style>\n",
       "<table border=\"1\" class=\"dataframe\">\n",
       "  <thead>\n",
       "    <tr style=\"text-align: right;\">\n",
       "      <th></th>\n",
       "      <th>x</th>\n",
       "      <th>y</th>\n",
       "    </tr>\n",
       "  </thead>\n",
       "  <tbody>\n",
       "    <tr>\n",
       "      <th>0</th>\n",
       "      <td>-0.139814</td>\n",
       "      <td>-0.007217</td>\n",
       "    </tr>\n",
       "    <tr>\n",
       "      <th>1</th>\n",
       "      <td>0.370494</td>\n",
       "      <td>0.582095</td>\n",
       "    </tr>\n",
       "    <tr>\n",
       "      <th>2</th>\n",
       "      <td>0.137426</td>\n",
       "      <td>-0.171796</td>\n",
       "    </tr>\n",
       "    <tr>\n",
       "      <th>3</th>\n",
       "      <td>0.303169</td>\n",
       "      <td>0.064720</td>\n",
       "    </tr>\n",
       "    <tr>\n",
       "      <th>4</th>\n",
       "      <td>-0.208489</td>\n",
       "      <td>0.530502</td>\n",
       "    </tr>\n",
       "    <tr>\n",
       "      <th>...</th>\n",
       "      <td>...</td>\n",
       "      <td>...</td>\n",
       "    </tr>\n",
       "    <tr>\n",
       "      <th>295</th>\n",
       "      <td>-0.566743</td>\n",
       "      <td>-0.164018</td>\n",
       "    </tr>\n",
       "    <tr>\n",
       "      <th>296</th>\n",
       "      <td>-0.835929</td>\n",
       "      <td>0.407581</td>\n",
       "    </tr>\n",
       "    <tr>\n",
       "      <th>297</th>\n",
       "      <td>0.436149</td>\n",
       "      <td>-0.223325</td>\n",
       "    </tr>\n",
       "    <tr>\n",
       "      <th>298</th>\n",
       "      <td>-0.188530</td>\n",
       "      <td>-0.375308</td>\n",
       "    </tr>\n",
       "    <tr>\n",
       "      <th>299</th>\n",
       "      <td>0.025065</td>\n",
       "      <td>0.075972</td>\n",
       "    </tr>\n",
       "  </tbody>\n",
       "</table>\n",
       "<p>300 rows × 2 columns</p>\n",
       "</div>"
      ]
     },
     "execution_count": 33,
     "metadata": {},
     "output_type": "execute_result"
    }
   ],
   "execution_count": 33
  },
  {
   "metadata": {
    "ExecuteTime": {
     "end_time": "2024-07-19T09:33:03.355218Z",
     "start_time": "2024-07-19T09:33:03.343237Z"
    }
   },
   "cell_type": "code",
   "source": "t_series = pd.Series(t, columns=['t'])",
   "id": "9e057dff66949cdb",
   "outputs": [
    {
     "ename": "TypeError",
     "evalue": "Series.__init__() got an unexpected keyword argument 'columns'",
     "output_type": "error",
     "traceback": [
      "\u001B[0;31m---------------------------------------------------------------------------\u001B[0m",
      "\u001B[0;31mTypeError\u001B[0m                                 Traceback (most recent call last)",
      "Cell \u001B[0;32mIn[39], line 1\u001B[0m\n\u001B[0;32m----> 1\u001B[0m t_series \u001B[38;5;241m=\u001B[39m \u001B[43mpd\u001B[49m\u001B[38;5;241;43m.\u001B[39;49m\u001B[43mSeries\u001B[49m\u001B[43m(\u001B[49m\u001B[43mt\u001B[49m\u001B[43m,\u001B[49m\u001B[43m \u001B[49m\u001B[43mcolumns\u001B[49m\u001B[38;5;241;43m=\u001B[39;49m\u001B[43m[\u001B[49m\u001B[38;5;124;43m'\u001B[39;49m\u001B[38;5;124;43mt\u001B[39;49m\u001B[38;5;124;43m'\u001B[39;49m\u001B[43m]\u001B[49m\u001B[43m)\u001B[49m\n",
      "\u001B[0;31mTypeError\u001B[0m: Series.__init__() got an unexpected keyword argument 'columns'"
     ]
    }
   ],
   "execution_count": 39
  },
  {
   "metadata": {
    "ExecuteTime": {
     "end_time": "2024-07-19T09:35:04.583980Z",
     "start_time": "2024-07-19T09:35:04.581845Z"
    }
   },
   "cell_type": "code",
   "source": "type(x)",
   "id": "f0fb3252cbab83f4",
   "outputs": [
    {
     "data": {
      "text/plain": [
       "numpy.ndarray"
      ]
     },
     "execution_count": 45,
     "metadata": {},
     "output_type": "execute_result"
    }
   ],
   "execution_count": 45
  },
  {
   "metadata": {
    "ExecuteTime": {
     "end_time": "2024-07-19T09:35:48.062219Z",
     "start_time": "2024-07-19T09:35:48.058164Z"
    }
   },
   "cell_type": "code",
   "source": "df2 = pd.DataFrame(zip(*x.T, t.T), columns=['x', 'y', 't'])",
   "id": "ba3a89c321eca580",
   "outputs": [],
   "execution_count": 53
  },
  {
   "metadata": {
    "ExecuteTime": {
     "end_time": "2024-07-19T09:35:52.181186Z",
     "start_time": "2024-07-19T09:35:52.175292Z"
    }
   },
   "cell_type": "code",
   "source": "df2",
   "id": "8ab1de593ad509e2",
   "outputs": [
    {
     "data": {
      "text/plain": [
       "            x         y  t\n",
       "0   -0.139814 -0.007217  1\n",
       "1    0.370494  0.582095  1\n",
       "2    0.137426 -0.171796  2\n",
       "3    0.303169  0.064720  0\n",
       "4   -0.208489  0.530502  1\n",
       "..        ...       ... ..\n",
       "295 -0.566743 -0.164018  2\n",
       "296 -0.835929  0.407581  2\n",
       "297  0.436149 -0.223325  0\n",
       "298 -0.188530 -0.375308  2\n",
       "299  0.025065  0.075972  0\n",
       "\n",
       "[300 rows x 3 columns]"
      ],
      "text/html": [
       "<div>\n",
       "<style scoped>\n",
       "    .dataframe tbody tr th:only-of-type {\n",
       "        vertical-align: middle;\n",
       "    }\n",
       "\n",
       "    .dataframe tbody tr th {\n",
       "        vertical-align: top;\n",
       "    }\n",
       "\n",
       "    .dataframe thead th {\n",
       "        text-align: right;\n",
       "    }\n",
       "</style>\n",
       "<table border=\"1\" class=\"dataframe\">\n",
       "  <thead>\n",
       "    <tr style=\"text-align: right;\">\n",
       "      <th></th>\n",
       "      <th>x</th>\n",
       "      <th>y</th>\n",
       "      <th>t</th>\n",
       "    </tr>\n",
       "  </thead>\n",
       "  <tbody>\n",
       "    <tr>\n",
       "      <th>0</th>\n",
       "      <td>-0.139814</td>\n",
       "      <td>-0.007217</td>\n",
       "      <td>1</td>\n",
       "    </tr>\n",
       "    <tr>\n",
       "      <th>1</th>\n",
       "      <td>0.370494</td>\n",
       "      <td>0.582095</td>\n",
       "      <td>1</td>\n",
       "    </tr>\n",
       "    <tr>\n",
       "      <th>2</th>\n",
       "      <td>0.137426</td>\n",
       "      <td>-0.171796</td>\n",
       "      <td>2</td>\n",
       "    </tr>\n",
       "    <tr>\n",
       "      <th>3</th>\n",
       "      <td>0.303169</td>\n",
       "      <td>0.064720</td>\n",
       "      <td>0</td>\n",
       "    </tr>\n",
       "    <tr>\n",
       "      <th>4</th>\n",
       "      <td>-0.208489</td>\n",
       "      <td>0.530502</td>\n",
       "      <td>1</td>\n",
       "    </tr>\n",
       "    <tr>\n",
       "      <th>...</th>\n",
       "      <td>...</td>\n",
       "      <td>...</td>\n",
       "      <td>...</td>\n",
       "    </tr>\n",
       "    <tr>\n",
       "      <th>295</th>\n",
       "      <td>-0.566743</td>\n",
       "      <td>-0.164018</td>\n",
       "      <td>2</td>\n",
       "    </tr>\n",
       "    <tr>\n",
       "      <th>296</th>\n",
       "      <td>-0.835929</td>\n",
       "      <td>0.407581</td>\n",
       "      <td>2</td>\n",
       "    </tr>\n",
       "    <tr>\n",
       "      <th>297</th>\n",
       "      <td>0.436149</td>\n",
       "      <td>-0.223325</td>\n",
       "      <td>0</td>\n",
       "    </tr>\n",
       "    <tr>\n",
       "      <th>298</th>\n",
       "      <td>-0.188530</td>\n",
       "      <td>-0.375308</td>\n",
       "      <td>2</td>\n",
       "    </tr>\n",
       "    <tr>\n",
       "      <th>299</th>\n",
       "      <td>0.025065</td>\n",
       "      <td>0.075972</td>\n",
       "      <td>0</td>\n",
       "    </tr>\n",
       "  </tbody>\n",
       "</table>\n",
       "<p>300 rows × 3 columns</p>\n",
       "</div>"
      ]
     },
     "execution_count": 55,
     "metadata": {},
     "output_type": "execute_result"
    }
   ],
   "execution_count": 55
  },
  {
   "metadata": {
    "ExecuteTime": {
     "end_time": "2024-07-19T09:41:06.063398Z",
     "start_time": "2024-07-19T09:41:05.934722Z"
    }
   },
   "cell_type": "code",
   "source": [
    "import matplotlib.pyplot as plt\n",
    "import seaborn as sns\n",
    "sns.set_style(\"darkgrid\")\n",
    "fig, ax = plt.subplots()\n",
    "for name, group in df2.groupby('t'):\n",
    "    ax.plot(group.x, group.y, marker='o', linestyle='', ms=3, label=name)\n",
    "ax.legend()\n",
    "ax.set_title('Spiral Dataset')\n",
    "ax.set_xlabel('x')\n",
    "ax.set_ylabel('y')"
   ],
   "id": "5ddefafd13464c00",
   "outputs": [
    {
     "data": {
      "text/plain": [
       "Text(0, 0.5, 'y')"
      ]
     },
     "execution_count": 61,
     "metadata": {},
     "output_type": "execute_result"
    },
    {
     "data": {
      "text/plain": [
       "<Figure size 640x480 with 1 Axes>"
      ],
      "image/png": "[encoded data removed]"
     },
     "metadata": {},
     "output_type": "display_data"
    }
   ],
   "execution_count": 61
  },
  {
   "metadata": {},
   "cell_type": "code",
   "outputs": [],
   "execution_count": null,
   "source": [
    "import math\n",
    "import numpy as np\n",
    "from dezero import optimizers\n",
    "import dezero.functions as F\n",
    "from dezero.models import MLP\n",
    "\n",
    "max_epoch = 300\n",
    "batch_size = 30\n",
    "hidden_size = 10\n",
    "lr = 1.0\n",
    "\n",
    "x, t = dezero.datasets.get_spiral(train=True)\n",
    "model = MLP((hidden_size, 3))\n",
    "optimizer = optimizers.SGD(lr).setup(model)\n",
    "data_size = len(x)\n",
    "max_iter = math.ceil(data_size/batch_size)\n",
    "\n",
    "for epoch in range(max_epoch):\n",
    "    index = np.random.permutation(range(data_size))\n",
    "    sum_loss = 0\n",
    "    \n",
    "    for i in range(max_iter):\n",
    "        batch_index = index[i * batch_size:(i + 1) * batch_size]\n",
    "        batch_x = x[batch_index]\n",
    "        batch_t = t[batch_index]\n",
    "        \n",
    "        y = model(batch_x)\n",
    "        loss = F.softmax_cross_entropy(y, batch_t)\n",
    "        model.cleargrads()\n",
    "        loss.backward()\n",
    "        optimizer.update()\n",
    "        sum_loss += float(loss.data) * len(batch_x)\n",
    "        \n",
    "        avg_loss = sum_loss / data_size\n",
    "        print(f'epoch:{epoch + 1}, loss:{avg_loss:.2f}')\n",
    "        "
   ],
   "id": "fe6059b1d572e72a"
  }
 ],
 "metadata": {
  "kernelspec": {
   "display_name": "Python 3",
   "language": "python",
   "name": "python3"
  },
  "language_info": {
   "codemirror_mode": {
    "name": "ipython",
    "version": 2
   },
   "file_extension": ".py",
   "mimetype": "text/x-python",
   "name": "python",
   "nbconvert_exporter": "python",
   "pygments_lexer": "ipython2",
   "version": "2.7.6"
  }
 },
 "nbformat": 4,
 "nbformat_minor": 5
}
