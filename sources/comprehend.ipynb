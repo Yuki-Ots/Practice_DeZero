{
 "cells": [
  {
   "cell_type": "code",
   "id": "initial_id",
   "metadata": {
    "collapsed": true,
    "ExecuteTime": {
     "end_time": "2024-07-16T10:34:51.888883Z",
     "start_time": "2024-07-16T10:34:51.810025Z"
    }
   },
   "source": [
    "from dezero import Variable\n",
    "import numpy as np\n",
    "import dezero.functions as F\n",
    "\n",
    "\n",
    "x = Variable(np.array([[0., 1., 2., 3., 4.]]))\n",
    "a = Variable(np.array([[1.]]))\n",
    "\n",
    "z = a * x\n",
    "z"
   ],
   "outputs": [
    {
     "data": {
      "text/plain": [
       "variable([[0. 1. 2. 3. 4.]])"
      ]
     },
     "execution_count": 1,
     "metadata": {},
     "output_type": "execute_result"
    }
   ],
   "execution_count": 1
  },
  {
   "metadata": {
    "ExecuteTime": {
     "end_time": "2024-07-16T10:35:13.185514Z",
     "start_time": "2024-07-16T10:35:13.181589Z"
    }
   },
   "cell_type": "code",
   "source": [
    "z.backward(retain_grad=True)\n",
    "z.grad"
   ],
   "id": "96186e816c9b2f16",
   "outputs": [
    {
     "data": {
      "text/plain": [
       "variable([[1. 1. 1. 1. 1.]])"
      ]
     },
     "execution_count": 2,
     "metadata": {},
     "output_type": "execute_result"
    }
   ],
   "execution_count": 2
  },
  {
   "metadata": {
    "ExecuteTime": {
     "end_time": "2024-07-16T10:35:18.059542Z",
     "start_time": "2024-07-16T10:35:18.056073Z"
    }
   },
   "cell_type": "code",
   "source": "x.grad",
   "id": "edf6fdbb95c1723d",
   "outputs": [
    {
     "data": {
      "text/plain": [
       "variable([[1. 1. 1. 1. 1.]])"
      ]
     },
     "execution_count": 3,
     "metadata": {},
     "output_type": "execute_result"
    }
   ],
   "execution_count": 3
  },
  {
   "metadata": {
    "ExecuteTime": {
     "end_time": "2024-07-16T10:35:24.253960Z",
     "start_time": "2024-07-16T10:35:24.250249Z"
    }
   },
   "cell_type": "code",
   "source": "a.grad",
   "id": "76b825f0638d3db6",
   "outputs": [
    {
     "data": {
      "text/plain": [
       "variable([[10.]])"
      ]
     },
     "execution_count": 4,
     "metadata": {},
     "output_type": "execute_result"
    }
   ],
   "execution_count": 4
  },
  {
   "metadata": {
    "ExecuteTime": {
     "end_time": "2024-07-16T10:36:55.577590Z",
     "start_time": "2024-07-16T10:36:55.574183Z"
    }
   },
   "cell_type": "code",
   "source": [
    "x = Variable(np.array([[0., 1., 2., 3., 4.]]))\n",
    "y = F.sum(x, axis=1, keepdims=True)\n",
    "z = x / y"
   ],
   "id": "24249dda0fbf85b",
   "outputs": [],
   "execution_count": 5
  },
  {
   "metadata": {
    "ExecuteTime": {
     "end_time": "2024-07-16T10:37:19.072311Z",
     "start_time": "2024-07-16T10:37:19.069101Z"
    }
   },
   "cell_type": "code",
   "source": [
    "z.backward(retain_grad=True)\n",
    "z.grad"
   ],
   "id": "7cead1bf7cdaf32",
   "outputs": [
    {
     "data": {
      "text/plain": [
       "variable([[1. 1. 1. 1. 1.]])"
      ]
     },
     "execution_count": 6,
     "metadata": {},
     "output_type": "execute_result"
    }
   ],
   "execution_count": 6
  },
  {
   "metadata": {
    "ExecuteTime": {
     "end_time": "2024-07-16T10:37:24.682837Z",
     "start_time": "2024-07-16T10:37:24.679825Z"
    }
   },
   "cell_type": "code",
   "source": "y.grad",
   "id": "d23aaf854b96b3b2",
   "outputs": [
    {
     "data": {
      "text/plain": [
       "variable([[-0.1]])"
      ]
     },
     "execution_count": 7,
     "metadata": {},
     "output_type": "execute_result"
    }
   ],
   "execution_count": 7
  },
  {
   "metadata": {
    "ExecuteTime": {
     "end_time": "2024-07-16T10:37:31.951124Z",
     "start_time": "2024-07-16T10:37:31.947798Z"
    }
   },
   "cell_type": "code",
   "source": "x.grad",
   "id": "555dcf54dab2ab18",
   "outputs": [
    {
     "data": {
      "text/plain": [
       "variable([[0. 0. 0. 0. 0.]])"
      ]
     },
     "execution_count": 8,
     "metadata": {},
     "output_type": "execute_result"
    }
   ],
   "execution_count": 8
  },
  {
   "metadata": {
    "ExecuteTime": {
     "end_time": "2024-07-16T10:38:14.646105Z",
     "start_time": "2024-07-16T10:38:14.643615Z"
    }
   },
   "cell_type": "code",
   "source": "[[-1/F.sum(x).data]]",
   "id": "6096c3de3aea2a00",
   "outputs": [
    {
     "data": {
      "text/plain": [
       "[[-0.1]]"
      ]
     },
     "execution_count": 10,
     "metadata": {},
     "output_type": "execute_result"
    }
   ],
   "execution_count": 10
  },
  {
   "metadata": {},
   "cell_type": "code",
   "outputs": [],
   "execution_count": null,
   "source": "",
   "id": "726f608e3f40524a"
  },
  {
   "metadata": {},
   "cell_type": "markdown",
   "source": [
    "本来\n",
    "z.shape = (1, 2)行列 について、 x0, x1の勾配を求めるので (2, 1, 2)テンソルにならないとおかしい。\n",
    "\n",
    "根源的に\n",
    "y.grad.shape = (1, 1)が奇妙 y.grad.dataの値が何を表しているのかがよくわからない。　"
   ],
   "id": "c80f4e2153984a38"
  }
 ],
 "metadata": {
  "kernelspec": {
   "display_name": "Python 3",
   "language": "python",
   "name": "python3"
  },
  "language_info": {
   "codemirror_mode": {
    "name": "ipython",
    "version": 2
   },
   "file_extension": ".py",
   "mimetype": "text/x-python",
   "name": "python",
   "nbconvert_exporter": "python",
   "pygments_lexer": "ipython2",
   "version": "2.7.6"
  }
 },
 "nbformat": 4,
 "nbformat_minor": 5
}
