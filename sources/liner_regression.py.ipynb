{
 "cells": [
  {
   "metadata": {
    "ExecuteTime": {
     "end_time": "2024-07-05T14:00:33.726439Z",
     "start_time": "2024-07-05T14:00:33.721736Z"
    }
   },
   "cell_type": "code",
   "source": [
    "import numpy as np\n",
    "from dezero import *\n",
    "import dezero.functions as F\n",
    "import dezero.utils as dzutils\n",
    "import matplotlib.pyplot as plt\n",
    "import seaborn as sns\n",
    "sns.set_style(\"darkgrid\")"
   ],
   "id": "c4ba2ccf0eec9aa7",
   "outputs": [],
   "execution_count": 1
  },
  {
   "metadata": {
    "ExecuteTime": {
     "end_time": "2024-07-05T14:00:33.734092Z",
     "start_time": "2024-07-05T14:00:33.732459Z"
    }
   },
   "cell_type": "code",
   "source": "np.random.seed(0)",
   "id": "6dbd67bb80f5e2c6",
   "outputs": [],
   "execution_count": 2
  },
  {
   "metadata": {
    "ExecuteTime": {
     "end_time": "2024-07-05T14:00:33.737160Z",
     "start_time": "2024-07-05T14:00:33.735026Z"
    }
   },
   "cell_type": "code",
   "source": [
    "x = np.random.rand(100, 1)\n",
    "print(x)"
   ],
   "id": "c3d8fda54d8409c6",
   "outputs": [
    {
     "name": "stdout",
     "output_type": "stream",
     "text": [
      "[[0.5488135 ]\n",
      " [0.71518937]\n",
      " [0.60276338]\n",
      " [0.54488318]\n",
      " [0.4236548 ]\n",
      " [0.64589411]\n",
      " [0.43758721]\n",
      " [0.891773  ]\n",
      " [0.96366276]\n",
      " [0.38344152]\n",
      " [0.79172504]\n",
      " [0.52889492]\n",
      " [0.56804456]\n",
      " [0.92559664]\n",
      " [0.07103606]\n",
      " [0.0871293 ]\n",
      " [0.0202184 ]\n",
      " [0.83261985]\n",
      " [0.77815675]\n",
      " [0.87001215]\n",
      " [0.97861834]\n",
      " [0.79915856]\n",
      " [0.46147936]\n",
      " [0.78052918]\n",
      " [0.11827443]\n",
      " [0.63992102]\n",
      " [0.14335329]\n",
      " [0.94466892]\n",
      " [0.52184832]\n",
      " [0.41466194]\n",
      " [0.26455561]\n",
      " [0.77423369]\n",
      " [0.45615033]\n",
      " [0.56843395]\n",
      " [0.0187898 ]\n",
      " [0.6176355 ]\n",
      " [0.61209572]\n",
      " [0.616934  ]\n",
      " [0.94374808]\n",
      " [0.6818203 ]\n",
      " [0.3595079 ]\n",
      " [0.43703195]\n",
      " [0.6976312 ]\n",
      " [0.06022547]\n",
      " [0.66676672]\n",
      " [0.67063787]\n",
      " [0.21038256]\n",
      " [0.1289263 ]\n",
      " [0.31542835]\n",
      " [0.36371077]\n",
      " [0.57019677]\n",
      " [0.43860151]\n",
      " [0.98837384]\n",
      " [0.10204481]\n",
      " [0.20887676]\n",
      " [0.16130952]\n",
      " [0.65310833]\n",
      " [0.2532916 ]\n",
      " [0.46631077]\n",
      " [0.24442559]\n",
      " [0.15896958]\n",
      " [0.11037514]\n",
      " [0.65632959]\n",
      " [0.13818295]\n",
      " [0.19658236]\n",
      " [0.36872517]\n",
      " [0.82099323]\n",
      " [0.09710128]\n",
      " [0.83794491]\n",
      " [0.09609841]\n",
      " [0.97645947]\n",
      " [0.4686512 ]\n",
      " [0.97676109]\n",
      " [0.60484552]\n",
      " [0.73926358]\n",
      " [0.03918779]\n",
      " [0.28280696]\n",
      " [0.12019656]\n",
      " [0.2961402 ]\n",
      " [0.11872772]\n",
      " [0.31798318]\n",
      " [0.41426299]\n",
      " [0.0641475 ]\n",
      " [0.69247212]\n",
      " [0.56660145]\n",
      " [0.26538949]\n",
      " [0.52324805]\n",
      " [0.09394051]\n",
      " [0.5759465 ]\n",
      " [0.9292962 ]\n",
      " [0.31856895]\n",
      " [0.66741038]\n",
      " [0.13179786]\n",
      " [0.7163272 ]\n",
      " [0.28940609]\n",
      " [0.18319136]\n",
      " [0.58651293]\n",
      " [0.02010755]\n",
      " [0.82894003]\n",
      " [0.00469548]]\n"
     ]
    }
   ],
   "execution_count": 3
  },
  {
   "metadata": {
    "ExecuteTime": {
     "end_time": "2024-07-05T14:00:33.739109Z",
     "start_time": "2024-07-05T14:00:33.737633Z"
    }
   },
   "cell_type": "code",
   "source": "y = 5 + 2 * x + np.random.randn(100, 1) / 3.0",
   "id": "b22f58709c1eb8b",
   "outputs": [],
   "execution_count": 4
  },
  {
   "metadata": {
    "ExecuteTime": {
     "end_time": "2024-07-05T14:00:33.743489Z",
     "start_time": "2024-07-05T14:00:33.740094Z"
    }
   },
   "cell_type": "code",
   "source": "y",
   "id": "eecc7c0b213b993c",
   "outputs": [
    {
     "data": {
      "text/plain": [
       "array([[5.70924373],\n",
       "       [6.73065423],\n",
       "       [6.36074757],\n",
       "       [5.57768514],\n",
       "       [6.34339366],\n",
       "       [6.92375128],\n",
       "       [6.26810095],\n",
       "       [6.72357106],\n",
       "       [6.57040798],\n",
       "       [6.11836695],\n",
       "       [6.44905776],\n",
       "       [6.46527153],\n",
       "       [6.20551411],\n",
       "       [7.17673962],\n",
       "       [5.26086092],\n",
       "       [5.40978299],\n",
       "       [5.0439368 ],\n",
       "       [7.26052986],\n",
       "       [6.59861753],\n",
       "       [6.87402075],\n",
       "       [7.58495358],\n",
       "       [6.14906411],\n",
       "       [5.49946373],\n",
       "       [6.88419059],\n",
       "       [4.84550772],\n",
       "       [6.92771577],\n",
       "       [5.14883358],\n",
       "       [6.64018623],\n",
       "       [6.68467732],\n",
       "       [6.32282881],\n",
       "       [6.15163088],\n",
       "       [6.85048226],\n",
       "       [5.62522544],\n",
       "       [6.77355622],\n",
       "       [4.94824514],\n",
       "       [6.50275646],\n",
       "       [6.5399421 ],\n",
       "       [6.18219796],\n",
       "       [7.09218928],\n",
       "       [6.67104282],\n",
       "       [5.84449098],\n",
       "       [5.50759698],\n",
       "       [6.49467512],\n",
       "       [5.56257958],\n",
       "       [6.10201081],\n",
       "       [6.29139756],\n",
       "       [5.27571394],\n",
       "       [5.87427384],\n",
       "       [5.85495495],\n",
       "       [5.86324215],\n",
       "       [5.88375485],\n",
       "       [6.05695276],\n",
       "       [6.75197012],\n",
       "       [5.21469981],\n",
       "       [5.20580482],\n",
       "       [5.5480968 ],\n",
       "       [6.49841359],\n",
       "       [5.43715029],\n",
       "       [6.06462378],\n",
       "       [5.12449735],\n",
       "       [4.8208533 ],\n",
       "       [5.36721418],\n",
       "       [6.36821701],\n",
       "       [5.48804305],\n",
       "       [6.18754631],\n",
       "       [6.05227684],\n",
       "       [6.33771238],\n",
       "       [5.56654131],\n",
       "       [6.23725401],\n",
       "       [5.03833528],\n",
       "       [6.93017173],\n",
       "       [6.50841664],\n",
       "       [6.70527057],\n",
       "       [5.93421153],\n",
       "       [6.44570965],\n",
       "       [4.85721616],\n",
       "       [5.94115923],\n",
       "       [4.88041595],\n",
       "       [5.20979084],\n",
       "       [5.09151542],\n",
       "       [5.46995554],\n",
       "       [6.47170334],\n",
       "       [5.4447686 ],\n",
       "       [6.41412799],\n",
       "       [5.7247244 ],\n",
       "       [5.81223331],\n",
       "       [5.71309099],\n",
       "       [4.67295732],\n",
       "       [6.54790292],\n",
       "       [6.96423993],\n",
       "       [5.94409085],\n",
       "       [6.44106331],\n",
       "       [5.54920593],\n",
       "       [6.21564588],\n",
       "       [5.23406457],\n",
       "       [5.5935809 ],\n",
       "       [5.90522265],\n",
       "       [4.81036517],\n",
       "       [6.50603589],\n",
       "       [5.01521734]])"
      ]
     },
     "execution_count": 5,
     "metadata": {},
     "output_type": "execute_result"
    }
   ],
   "execution_count": 5
  },
  {
   "metadata": {
    "ExecuteTime": {
     "end_time": "2024-07-05T14:00:33.746189Z",
     "start_time": "2024-07-05T14:00:33.744051Z"
    }
   },
   "cell_type": "code",
   "source": "y.shape",
   "id": "e3a66885bce42d2e",
   "outputs": [
    {
     "data": {
      "text/plain": [
       "(100, 1)"
      ]
     },
     "execution_count": 6,
     "metadata": {},
     "output_type": "execute_result"
    }
   ],
   "execution_count": 6
  },
  {
   "metadata": {
    "ExecuteTime": {
     "end_time": "2024-07-05T14:00:33.819197Z",
     "start_time": "2024-07-05T14:00:33.746660Z"
    }
   },
   "cell_type": "code",
   "source": "plt.scatter(x, y)",
   "id": "3ac2e6bbe6a516d8",
   "outputs": [
    {
     "data": {
      "text/plain": [
       "<matplotlib.collections.PathCollection at 0x105ffa540>"
      ]
     },
     "execution_count": 7,
     "metadata": {},
     "output_type": "execute_result"
    },
    {
     "data": {
      "text/plain": [
       "<Figure size 640x480 with 1 Axes>"
      ],
      "image/png": "[encoded data removed]"
     },
     "metadata": {},
     "output_type": "display_data"
    }
   ],
   "execution_count": 7
  },
  {
   "metadata": {
    "ExecuteTime": {
     "end_time": "2024-07-05T14:00:33.822255Z",
     "start_time": "2024-07-05T14:00:33.819860Z"
    }
   },
   "cell_type": "code",
   "source": "y.shape",
   "id": "5b4056ddfb7ceeb1",
   "outputs": [
    {
     "data": {
      "text/plain": [
       "(100, 1)"
      ]
     },
     "execution_count": 8,
     "metadata": {},
     "output_type": "execute_result"
    }
   ],
   "execution_count": 8
  },
  {
   "metadata": {
    "ExecuteTime": {
     "end_time": "2024-07-05T14:00:33.825707Z",
     "start_time": "2024-07-05T14:00:33.823726Z"
    }
   },
   "cell_type": "code",
   "source": "x, y = Variable(x), Variable(y)",
   "id": "d773ddfa9f747931",
   "outputs": [],
   "execution_count": 9
  },
  {
   "metadata": {
    "ExecuteTime": {
     "end_time": "2024-07-05T14:00:33.827774Z",
     "start_time": "2024-07-05T14:00:33.826175Z"
    }
   },
   "cell_type": "code",
   "source": [
    "W = Variable(np.zeros((1, 1)))\n",
    "b = Variable(np.zeros(1))"
   ],
   "id": "f7a1a1a853e71f90",
   "outputs": [],
   "execution_count": 10
  },
  {
   "metadata": {
    "ExecuteTime": {
     "end_time": "2024-07-05T14:00:33.830057Z",
     "start_time": "2024-07-05T14:00:33.828468Z"
    }
   },
   "cell_type": "code",
   "source": [
    "def predict(x):\n",
    "    y = F.matmul(x, W) + b\n",
    "    return y"
   ],
   "id": "67064de62065cc7d",
   "outputs": [],
   "execution_count": 11
  },
  {
   "metadata": {
    "ExecuteTime": {
     "end_time": "2024-07-05T14:00:33.832121Z",
     "start_time": "2024-07-05T14:00:33.830729Z"
    }
   },
   "cell_type": "code",
   "source": "",
   "id": "4ef9a33ecac98571",
   "outputs": [],
   "execution_count": 11
  },
  {
   "metadata": {
    "ExecuteTime": {
     "end_time": "2024-07-05T14:00:33.845680Z",
     "start_time": "2024-07-05T14:00:33.832471Z"
    }
   },
   "cell_type": "code",
   "source": [
    "lr = 0.1\n",
    "iters = 100\n",
    "loss_trace = []\n",
    "\n",
    "for i in range(iters):\n",
    "    y_pred = predict(x)\n",
    "    loss = F.mean_squared_error(y_pred, y)\n",
    "    \n",
    "    W.cleargrad()\n",
    "    b.cleargrad()\n",
    "    loss.backward()\n",
    "    \n",
    "    W.data -= lr * W.grad.data\n",
    "    b.data -= lr * b.grad.data\n",
    "    loss_trace.append(loss.data)\n",
    "    print(W, b, loss)"
   ],
   "id": "65a17fa19ad6ebc",
   "outputs": [
    {
     "name": "stdout",
     "output_type": "stream",
     "text": [
      "variable([[0.15029185]]) variable([0.30048496]) variable(36.55227345339904)\n",
      "variable([[0.29117597]]) variable([0.58239281]) variable(32.1770403451791)\n",
      "variable([[0.42323576]]) variable([0.84687482]) variable(28.327339241059413)\n",
      "variable([[0.54701845]]) variable([1.09501087]) variable(24.940044146311994)\n",
      "variable([[0.66303737]]) variable([1.32781393]) variable(21.959611662229335)\n",
      "variable([[0.77177404]]) variable([1.5462342]) variable(19.337170176445856)\n",
      "variable([[0.87368009]]) variable([1.75116294]) variable(17.029718458306245)\n",
      "variable([[0.96917921]]) variable([1.94343622]) variable(14.999420517716251)\n",
      "variable([[1.05866881]]) variable([2.12383827]) variable(13.212985164455485)\n",
      "variable([[1.14252164]]) variable([2.29310471]) variable(11.641120093863973)\n",
      "variable([[1.22108739]]) variable([2.45192557]) variable(10.258051546910055)\n",
      "variable([[1.29469404]]) variable([2.60094812]) variable(9.04110166794642)\n",
      "variable([[1.36364927]]) variable([2.7407795]) variable(7.970316629597518)\n",
      "variable([[1.42824166]]) variable([2.87198923]) variable(7.028139426709151)\n",
      "variable([[1.48874193]]) variable([2.99511153]) variable(6.199121973781728)\n",
      "variable([[1.545404]]) variable([3.11064751]) variable(5.469671784813608)\n",
      "variable([[1.59846606]]) variable([3.21906722]) variable(4.82782908156909)\n",
      "variable([[1.64815153]]) variable([3.32081157]) variable(4.263070675255773)\n",
      "variable([[1.69466998]]) variable([3.41629415]) variable(3.7661374056308943)\n",
      "variable([[1.73821801]]) variable([3.50590292]) variable(3.328882307854729)\n",
      "variable([[1.77898002]]) variable([3.5900018]) variable(2.944137017306277)\n",
      "variable([[1.81712896]]) variable([3.66893212]) variable(2.605594221645378)\n",
      "variable([[1.85282709]]) variable([3.7430141]) variable(2.3077042325509676)\n",
      "variable([[1.8862266]]) variable([3.81254809]) variable(2.0455839811017977)\n",
      "variable([[1.91747025]]) variable([3.87781583]) variable(1.81493694449098)\n",
      "variable([[1.94669195]]) variable([3.93908159]) variable(1.6119826910194504)\n",
      "variable([[1.97401729]]) variable([3.99659327]) variable(1.4333948880356076)\n",
      "variable([[1.99956411]]) variable([4.0505834]) variable(1.276246756265154)\n",
      "variable([[2.02344292]]) variable([4.10127011]) variable(1.1379630760822714)\n",
      "variable([[2.04575739]]) variable([4.14885799]) variable(1.0162779587131001)\n",
      "variable([[2.06660476]]) variable([4.19353897]) variable(0.9091976898967961)\n",
      "variable([[2.08607624]]) variable([4.23549308]) variable(0.8149680367084017)\n",
      "variable([[2.10425738]]) variable([4.27488918]) variable(0.7320454814354792)\n",
      "variable([[2.12122846]]) variable([4.31188568]) variable(0.6590719107968677)\n",
      "variable([[2.13706473]]) variable([4.34663117]) variable(0.5948523454532333)\n",
      "variable([[2.15183682]]) variable([4.37926501]) variable(0.5383353446142854)\n",
      "variable([[2.16561097]]) variable([4.40991796]) variable(0.48859576441417374)\n",
      "variable([[2.17844929]]) variable([4.43871264]) variable(0.44481958732408977)\n",
      "variable([[2.19041007]]) variable([4.4657641]) variable(0.4062905738322991)\n",
      "variable([[2.20154797]]) variable([4.49118023]) variable(0.3723785175036528)\n",
      "variable([[2.21191428]]) variable([4.51506226]) variable(0.34252891082312936)\n",
      "variable([[2.22155707]]) variable([4.53750513]) variable(0.31625385236220976)\n",
      "variable([[2.23052147]]) variable([4.5585979]) variable(0.2931240461623178)\n",
      "variable([[2.2388498]]) variable([4.57842412]) variable(0.2727617621398946)\n",
      "variable([[2.24658175]]) variable([4.59706216]) variable(0.2548346420766901)\n",
      "variable([[2.25375455]]) variable([4.6145855]) variable(0.23905024962487423)\n",
      "variable([[2.26040313]]) variable([4.63106312]) variable(0.2251512749570696)\n",
      "variable([[2.26656024]]) variable([4.64655969]) variable(0.2129113154263678)\n",
      "variable([[2.27225661]]) variable([4.66113587]) variable(0.2021311630469046)\n",
      "variable([[2.27752107]]) variable([4.67484859]) variable(0.19263553791649238)\n",
      "variable([[2.28238064]]) variable([4.68775122]) variable(0.1842702140154446)\n",
      "variable([[2.28686069]]) variable([4.69989384]) variable(0.17689949024996776)\n",
      "variable([[2.290985]]) variable([4.71132342]) variable(0.17040396526988197)\n",
      "variable([[2.29477588]]) variable([4.72208403]) variable(0.16467857957176843)\n",
      "variable([[2.29825426]]) variable([4.73221699]) variable(0.15963089278162998)\n",
      "variable([[2.30143977]]) variable([4.74176107]) variable(0.1551795678676702)\n",
      "variable([[2.30435082]]) variable([4.75075265]) variable(0.151253037427062)\n",
      "variable([[2.30700467]]) variable([4.75922583]) variable(0.147788330176265)\n",
      "variable([[2.30941753]]) variable([4.76721261]) variable(0.14473003840148388)\n",
      "variable([[2.31160459]]) variable([4.77474302]) variable(0.14202940943736042)\n",
      "variable([[2.31358011]]) variable([4.7818452]) variable(0.13964354627581602)\n",
      "variable([[2.31535743]]) variable([4.78854558]) variable(0.13753470419650127)\n",
      "variable([[2.31694911]]) variable([4.79486892]) variable(0.135669671884886)\n",
      "variable([[2.31836691]]) variable([4.80083847]) variable(0.13401922688946724)\n",
      "variable([[2.31962185]]) variable([4.80647602]) variable(0.13255765648859297)\n",
      "variable([[2.32072428]]) variable([4.81180203]) variable(0.13126233611000074)\n",
      "variable([[2.32168389]]) variable([4.81683568]) variable(0.13011335838993046)\n",
      "variable([[2.32250981]]) variable([4.82159496]) variable(0.12909320678906183)\n",
      "variable([[2.32321055]]) variable([4.82609675]) variable(0.12818646841318052)\n",
      "variable([[2.32379412]]) variable([4.83035689]) variable(0.12737958132936236)\n",
      "variable([[2.32426804]]) variable([4.83439022]) variable(0.12666061223412764)\n",
      "variable([[2.32463935]]) variable([4.83821069]) variable(0.12601906082773406)\n",
      "variable([[2.32491465]]) variable([4.84183135]) variable(0.12544568768670644)\n",
      "variable([[2.32510013]]) variable([4.84526447]) variable(0.1249323628120353)\n",
      "variable([[2.32520161]]) variable([4.84852156]) variable(0.12447193236951143)\n",
      "variable([[2.32522455]]) variable([4.85161338]) variable(0.12405810143698806)\n",
      "variable([[2.32517404]]) variable([4.85455008]) variable(0.1236853308358417)\n",
      "variable([[2.32505488]]) variable([4.85734113]) variable(0.1233487463548606)\n",
      "variable([[2.32487157]]) variable([4.85999545]) variable(0.12304405887800143)\n",
      "variable([[2.32462832]]) variable([4.86252139]) variable(0.12276749410625819)\n",
      "variable([[2.32432909]]) variable([4.86492678]) variable(0.12251573072121463)\n",
      "variable([[2.32397758]]) variable([4.86721897]) variable(0.12228584597627722)\n",
      "variable([[2.32357728]]) variable([4.86940486]) variable(0.12207526782338779)\n",
      "variable([[2.32313144]]) variable([4.87149093]) variable(0.12188173279018416)\n",
      "variable([[2.32264313]]) variable([4.87348322]) variable(0.12170324891687453)\n",
      "variable([[2.3221152]]) variable([4.87538745]) variable(0.12153806314505979)\n",
      "variable([[2.32155035]]) variable([4.87720895]) variable(0.1213846326237431)\n",
      "variable([[2.32095111]]) variable([4.87895272]) variable(0.12124159946200136)\n",
      "variable([[2.32031983]]) variable([4.88062347]) variable(0.12110776851430971)\n",
      "variable([[2.31965873]]) variable([4.88222561]) variable(0.12098208783424182)\n",
      "variable([[2.31896989]]) variable([4.88376327]) variable(0.12086363147602547)\n",
      "variable([[2.31825527]]) variable([4.88524033]) variable(0.12075158436193294)\n",
      "variable([[2.31751669]]) variable([4.88666043]) variable(0.12064522896735984)\n",
      "variable([[2.31675586]]) variable([4.88802698]) variable(0.12054393360525696)\n",
      "variable([[2.31597439]]) variable([4.88934319]) variable(0.12044714211780161)\n",
      "variable([[2.31517379]]) variable([4.89061207]) variable(0.12035436480627329)\n",
      "variable([[2.31435546]]) variable([4.89183643]) variable(0.12026517045040425)\n",
      "variable([[2.31352074]]) variable([4.89301891]) variable(0.12017917928633638)\n",
      "variable([[2.31267087]]) variable([4.894162]) variable(0.12009605682804096)\n",
      "variable([[2.311807]]) variable([4.89526803]) variable(0.12001550843088336)\n"
     ]
    }
   ],
   "execution_count": 12
  },
  {
   "metadata": {
    "ExecuteTime": {
     "end_time": "2024-07-05T14:00:33.848547Z",
     "start_time": "2024-07-05T14:00:33.846218Z"
    }
   },
   "cell_type": "code",
   "source": "[x.grad for x in loss.creator.inputs]",
   "id": "ac58549bb67a6703",
   "outputs": [
    {
     "data": {
      "text/plain": [
       "[None,\n",
       " variable([[0.26383651]\n",
       "           [0.60938508]\n",
       "           [0.53603389]\n",
       "           [0.20195873]\n",
       "           [0.70515302]\n",
       "           [0.77472107]\n",
       "           [0.65367635]\n",
       "           [0.43055385]\n",
       "           [0.28260936]\n",
       "           [0.63255827]\n",
       "           [0.39261202]\n",
       "           [0.66162303]\n",
       "           [0.49288157]\n",
       "           [0.62356235]\n",
       "           [0.51392143]\n",
       "           [0.57240716]\n",
       "           [0.45590465]\n",
       "           [0.75775294]\n",
       "           [0.48086077]\n",
       "           [0.52738009]\n",
       "           [0.77503617]\n",
       "           [0.23523614]\n",
       "           [0.24564067]\n",
       "           [0.62129226]\n",
       "           [0.25935262]\n",
       "           [0.78263264]\n",
       "           [0.38612047]\n",
       "           [0.33635314]\n",
       "           [0.77832088]\n",
       "           [0.70379756]\n",
       "           [0.76720495]\n",
       "           [0.61068745]\n",
       "           [0.3138115 ]\n",
       "           [0.77651608]\n",
       "           [0.40947695]\n",
       "           [0.5922752 ]\n",
       "           [0.6163672 ]\n",
       "           [0.43269231]\n",
       "           [0.56326876]\n",
       "           [0.61270392]\n",
       "           [0.51937852]\n",
       "           [0.27397555]\n",
       "           [0.50882503]\n",
       "           [0.67551213]\n",
       "           [0.34313119]\n",
       "           [0.43398177]\n",
       "           [0.38302256]\n",
       "           [0.76316187]\n",
       "           [0.56836704]\n",
       "           [0.52458203]\n",
       "           [0.32986549]\n",
       "           [0.54709539]\n",
       "           [0.34886043]\n",
       "           [0.46005935]\n",
       "           [0.34956277]\n",
       "           [0.56792743]\n",
       "           [0.55489088]\n",
       "           [0.42114613]\n",
       "           [0.52342469]\n",
       "           [0.2736207 ]\n",
       "           [0.20662847]\n",
       "           [0.52804725]\n",
       "           [0.48659493]\n",
       "           [0.56085765]\n",
       "           [0.85263782]\n",
       "           [0.61412172]\n",
       "           [0.30788562]\n",
       "           [0.64088742]\n",
       "           [0.24082898]\n",
       "           [0.37777992]\n",
       "           [0.4497883 ]\n",
       "           [0.74299784]\n",
       "           [0.33703831]\n",
       "           [0.32069899]\n",
       "           [0.44301499]\n",
       "           [0.34371393]\n",
       "           [0.64385152]\n",
       "           [0.27489869]\n",
       "           [0.2649318 ]\n",
       "           [0.3819065 ]\n",
       "           [0.37333123]\n",
       "           [0.77863085]\n",
       "           [0.61271335]\n",
       "           [0.47367274]\n",
       "           [0.25391924]\n",
       "           [0.5966784 ]\n",
       "           [0.29113825]\n",
       "           [0.19723302]\n",
       "           [0.65623194]\n",
       "           [0.51364006]\n",
       "           [0.6098174 ]\n",
       "           [0.51201849]\n",
       "           [0.59777739]\n",
       "           [0.35075141]\n",
       "           [0.28375342]\n",
       "           [0.56894798]\n",
       "           [0.32440279]\n",
       "           [0.33922887]\n",
       "           [0.38415881]\n",
       "           [0.45695409]])]"
      ]
     },
     "execution_count": 13,
     "metadata": {},
     "output_type": "execute_result"
    }
   ],
   "execution_count": 13
  },
  {
   "metadata": {
    "ExecuteTime": {
     "end_time": "2024-07-05T14:00:33.850690Z",
     "start_time": "2024-07-05T14:00:33.848924Z"
    }
   },
   "cell_type": "code",
   "source": "[x.grad for x in loss.creator.inputs[0].creator.inputs][:10]",
   "id": "4ce05a2b52f67e20",
   "outputs": [
    {
     "data": {
      "text/plain": [
       "[None, variable([-0.01106029])]"
      ]
     },
     "execution_count": 14,
     "metadata": {},
     "output_type": "execute_result"
    }
   ],
   "execution_count": 14
  },
  {
   "metadata": {
    "ExecuteTime": {
     "end_time": "2024-07-05T14:00:33.852944Z",
     "start_time": "2024-07-05T14:00:33.851119Z"
    }
   },
   "cell_type": "code",
   "source": "W.grad.data, b.grad.data",
   "id": "a9d218ad589eb92a",
   "outputs": [
    {
     "data": {
      "text/plain": [
       "(array([[0.00863866]]), array([-0.01106029]))"
      ]
     },
     "execution_count": 15,
     "metadata": {},
     "output_type": "execute_result"
    }
   ],
   "execution_count": 15
  },
  {
   "metadata": {
    "ExecuteTime": {
     "end_time": "2024-07-05T14:00:33.920378Z",
     "start_time": "2024-07-05T14:00:33.853430Z"
    }
   },
   "cell_type": "code",
   "source": [
    "plt.scatter(x.data, y.data)\n",
    "x2 = np.linspace(0, 1, 1000).reshape(-1, 1)\n",
    "plt.plot(x2, x2 * W.data + b.data, color='red')"
   ],
   "id": "5436de97f8f758d5",
   "outputs": [
    {
     "data": {
      "text/plain": [
       "[<matplotlib.lines.Line2D at 0x168694680>]"
      ]
     },
     "execution_count": 16,
     "metadata": {},
     "output_type": "execute_result"
    },
    {
     "data": {
      "text/plain": [
       "<Figure size 640x480 with 1 Axes>"
      ],
      "image/png": "[encoded data removed]"
     },
     "metadata": {},
     "output_type": "display_data"
    }
   ],
   "execution_count": 16
  },
  {
   "metadata": {
    "ExecuteTime": {
     "end_time": "2024-07-05T14:00:33.922315Z",
     "start_time": "2024-07-05T14:00:33.921076Z"
    }
   },
   "cell_type": "code",
   "source": "",
   "id": "1cc3aad14dd809c7",
   "outputs": [],
   "execution_count": 16
  },
  {
   "metadata": {
    "ExecuteTime": {
     "end_time": "2024-07-05T14:01:16.268351Z",
     "start_time": "2024-07-05T14:01:16.197137Z"
    }
   },
   "cell_type": "code",
   "source": [
    "loss_trace2 = [loss_trace[i] for i in range(len(loss_trace)) if i % 10 == 0]\n",
    "plt.plot(loss_trace2)\n",
    "plt.xlabel('iterations')\n",
    "plt.ylabel('loss')"
   ],
   "id": "87249adcda407311",
   "outputs": [
    {
     "data": {
      "text/plain": [
       "Text(0, 0.5, 'loss')"
      ]
     },
     "execution_count": 20,
     "metadata": {},
     "output_type": "execute_result"
    },
    {
     "data": {
      "text/plain": [
       "<Figure size 640x480 with 1 Axes>"
      ],
      "image/png": "[encoded data removed]"
     },
     "metadata": {},
     "output_type": "display_data"
    }
   ],
   "execution_count": 20
  },
  {
   "metadata": {
    "ExecuteTime": {
     "end_time": "2024-07-05T14:00:33.989655Z",
     "start_time": "2024-07-05T14:00:33.986907Z"
    }
   },
   "cell_type": "code",
   "source": "loss_trace2",
   "id": "9faeb3797abfa2b6",
   "outputs": [
    {
     "data": {
      "text/plain": [
       "[array(36.55227345),\n",
       " array(10.25805155),\n",
       " array(2.94413702),\n",
       " array(0.90919769),\n",
       " array(0.34252891),\n",
       " array(0.18427021),\n",
       " array(0.13964355),\n",
       " array(0.12666061),\n",
       " array(0.12251573),\n",
       " array(0.12086363)]"
      ]
     },
     "execution_count": 18,
     "metadata": {},
     "output_type": "execute_result"
    }
   ],
   "execution_count": 18
  },
  {
   "metadata": {
    "ExecuteTime": {
     "end_time": "2024-07-05T14:00:33.992713Z",
     "start_time": "2024-07-05T14:00:33.990454Z"
    }
   },
   "cell_type": "code",
   "source": [
    "\n",
    "a = Variable(np.array([3.0, 4.0, 5.0]))\n",
    "b = Variable(np.array([2.0, 3.0, 4.0]))\n",
    "\n",
    "F.mean_squared_error(a, b)"
   ],
   "id": "802e58ec111a21e0",
   "outputs": [
    {
     "data": {
      "text/plain": [
       "variable(1.0)"
      ]
     },
     "execution_count": 19,
     "metadata": {},
     "output_type": "execute_result"
    }
   ],
   "execution_count": 19
  },
  {
   "metadata": {
    "ExecuteTime": {
     "end_time": "2024-07-05T14:00:33.994422Z",
     "start_time": "2024-07-05T14:00:33.993196Z"
    }
   },
   "cell_type": "code",
   "source": "",
   "id": "c5b101f6b2ccb6cc",
   "outputs": [],
   "execution_count": 19
  }
 ],
 "metadata": {
  "kernelspec": {
   "display_name": "Python 3",
   "language": "python",
   "name": "python3"
  },
  "language_info": {
   "codemirror_mode": {
    "name": "ipython",
    "version": 2
   },
   "file_extension": ".py",
   "mimetype": "text/x-python",
   "name": "python",
   "nbconvert_exporter": "python",
   "pygments_lexer": "ipython2",
   "version": "2.7.6"
  }
 },
 "nbformat": 4,
 "nbformat_minor": 5
}
